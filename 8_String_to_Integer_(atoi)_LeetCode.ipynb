{
  "nbformat": 4,
  "nbformat_minor": 0,
  "metadata": {
    "colab": {
      "provenance": []
    },
    "kernelspec": {
      "name": "python3",
      "display_name": "Python 3"
    },
    "language_info": {
      "name": "python"
    }
  },
  "cells": [
    {
      "cell_type": "markdown",
      "source": [
        "Lessons on Oct 14th\n",
        "1. Effective if you write pseudocode first\n",
        "2. be aware of what loop should you use. For this kind of sceaniors you don't need to run through every item, while might be better.\n",
        "3. It's clever to build a global idx to track the process, if the loop is not everytging.\n",
        "4."
      ],
      "metadata": {
        "id": "wzT81a6fmkj9"
      }
    },
    {
      "cell_type": "code",
      "execution_count": null,
      "metadata": {
        "id": "zGoP9hSqilpK"
      },
      "outputs": [],
      "source": [
        "class Solution:\n",
        "    def myAtoi(self, s: str) -> int:\n",
        "\n",
        "        # Housekeeping variables\n",
        "        result = 0  # since the final result is an int\n",
        "        idx = 0  # global idx, works in and out of the loop\n",
        "        sign = 1  # Be default it's 1, indicating the final result should be pos\n",
        "\n",
        "        # Step 1: handing the leading white space\n",
        "        s = s.lstrip()  # deleting leading whitespace all at once\n",
        "\n",
        "        # Handing empty str # This should come after you delete leading white space\n",
        "        if not s:\n",
        "            return 0\n",
        "        # Step 2: handing the sign\n",
        "        if s[idx] == \"-\":\n",
        "            print(\"yes there is a sign\")\n",
        "            sign = -1\n",
        "            idx += 1\n",
        "        elif s[idx] == \"+\":\n",
        "            sign = 1\n",
        "            idx += 1\n",
        "\n",
        "        # The loop for finding the first continuous digits\n",
        "        while (\n",
        "            idx < len(s) and s[idx].isdigit()\n",
        "        ):  # while it's not looped over and we find digits.\n",
        "            digit = int(s[idx])\n",
        "            # Handling potential overflow (one round before it's added up to the result)\n",
        "            if result > (2**31 - 1) // 10 or (\n",
        "                result == (2**31 - 1) // 10 and digit > 7\n",
        "            ):  # this handles both pos and neg overflow in one line because the when you larger than 2**31-1, you'll def larger than 2**31\n",
        "                return 2**31 - 1 if sign == 1 else -(2**31)\n",
        "\n",
        "            # print(f'cur digit is {s[idx]}')\n",
        "            result = result * 10 + digit\n",
        "            idx += 1\n",
        "\n",
        "        return result * sign\n",
        "\n",
        "        \"\"\"\n",
        "        housekeeping\n",
        "        - you should build a global idx instead of running for loop. Bc you are not gonna run through every digit\n",
        "        - from the logic of the problem, while indeed works better than for, bc clearly it only helps when you first encounter (continuous) digits.\n",
        "        - build a global sign, which should only be used when it comes before the digits\n",
        "        - mindful to empty string\n",
        "        - am variable to store final result\n",
        "        steps\n",
        "        1/ deleting leading space (it turns out there is a method for it)\n",
        "            if there is, continue to char this is not whitespace\n",
        "            if no, continue to next step\n",
        "        2/ check leading sign\n",
        "            if negative sign, you should have a placeholder of int \"-1\". You multiple it with final result.\n",
        "            Remember to move the idx.\n",
        "        3/ find immediate int\n",
        "            once you enter the 3rd step, you immediate look for int. To avoid errors, it's advisable to convert each one by one with int(), and times 10 of the prev ones when you add a new digit in.\n",
        "\n",
        "        details:\n",
        "        - if negative sign detected, you want to multiply final result by \"-1\"\n",
        "        - You always need to move the pointer/idx forward by hand globally\n",
        "        - You need to check overflow\n",
        "        - Be aware of running while loop indefinitely\n",
        "        - be aware of overflow\n",
        "        \"\"\"\n"
      ]
    },
    {
      "cell_type": "markdown",
      "source": [
        "learnings from a wrong solutions\n",
        "- Don't be compelled to just jump into a global loop, if it's not ideal\n",
        "- when you have multiple continue and break in a loop, you know you probably run into a suboptimal solution."
      ],
      "metadata": {
        "id": "p4FuUSpEnSL7"
      }
    },
    {
      "cell_type": "code",
      "source": [
        "\n",
        "\n",
        "# a wrong solution\n",
        "class Solution:\n",
        "    def myAtoi(self, s: str) -> int:\n",
        "        result =  '' # an str default empty\n",
        "        flag = False\n",
        "        for idx, char in enumerate(s):\n",
        "            if char == '':\n",
        "                continue # We want to move to next\n",
        "            if char == '-':\n",
        "                flag = True # We flag this to true when there is neg sign detected\n",
        "                continue\n",
        "            if char.isalpha() and char !=\"-\": # to check if a char is a letter\n",
        "                return 0\n",
        "            if char.isdigit(): # to check if a char is a digit\n",
        "                # You cannot let it out if you find a digit.\n",
        "                # You need to find the end idx\n",
        "                end = idx\n",
        "                print(f'current idx is {idx}')\n",
        "                for i, c in enumerate(s[idx+1:]):\n",
        "                    print(f'current char is {c}')\n",
        "                    if c.isalpha():\n",
        "                        end = idx+i # idx of the last digit, before you come to a letter\n",
        "                        break\n",
        "                    else:\n",
        "                        end +=1\n",
        "                result = int(s[idx:end+1])\n",
        "                return -result if flag else result"
      ],
      "metadata": {
        "id": "zG5dHazdnOI_"
      },
      "execution_count": null,
      "outputs": []
    }
  ]
}