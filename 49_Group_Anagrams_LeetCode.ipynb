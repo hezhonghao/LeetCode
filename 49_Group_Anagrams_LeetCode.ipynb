{
  "nbformat": 4,
  "nbformat_minor": 0,
  "metadata": {
    "colab": {
      "provenance": []
    },
    "kernelspec": {
      "name": "python3",
      "display_name": "Python 3"
    },
    "language_info": {
      "name": "python"
    }
  },
  "cells": [
    {
      "cell_type": "markdown",
      "source": [
        "Lessons on Oct 14\n",
        "- You were pretty close. This program avoids nested for loop by using defaultdict, where each round you use sorted item as a key, regardless of it being existed or not."
      ],
      "metadata": {
        "id": "X5wzc4IUcmJR"
      }
    },
    {
      "cell_type": "code",
      "execution_count": null,
      "metadata": {
        "id": "xw7O-wNBceeP"
      },
      "outputs": [],
      "source": [
        "from collections import defaultdict\n",
        "class Solution:\n",
        "    def groupAnagrams(self, strs: List[str]) -> List[List[str]]:\n",
        "        if not strs:\n",
        "            return [[]] # return an array of one empty group\n",
        "        groups = defaultdict(list) # default value an empty list\n",
        "        for item in strs:\n",
        "            sorted_key = ''.join(sorted(item))\n",
        "            groups[sorted_key].append(item)\n",
        "        return list(groups.values())\n",
        "\n",
        "\n",
        "'''\n",
        "logic:\n",
        "- if sorted strings are equal then they are anagrams\n",
        "- You need a for loop to go through all the items\n",
        "- But you don't want to do this with two for loops when comparing strings\n",
        "- You can possibly compare and remove on the go\n",
        "\n",
        "housekeeping\n",
        "- empty list\n",
        "- a dict to store output. You want dict bc you need key-value pair.\n",
        "steps\n",
        "1/ You build a for loop to go through all the items one by one\n",
        "2/ in each round, you compare the new item with existing group keys. If any the same, add it in that group; if not, build a new group, with this new key. You compare them by seeing whether sorted(string) are equal.\n",
        "3/ You stop the while loop when no item left\n"
      ]
    }
  ]
}